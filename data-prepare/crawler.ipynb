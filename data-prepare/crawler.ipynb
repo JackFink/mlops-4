{
 "cells": [
  {
   "cell_type": "markdown",
   "id": "92f350eb",
   "metadata": {
    "id": "92f350eb"
   },
   "source": [
    "api 연결을 위한 설정"
   ]
  },
  {
   "cell_type": "code",
   "execution_count": 1,
   "id": "ea646f66",
   "metadata": {},
   "outputs": [],
   "source": [
    "# PEP-8 컨벤션에 따르는게 좋다.\n",
    "import os\n",
    "import json\n",
    "import time\n",
    "\n",
    "import requests"
   ]
  },
  {
   "cell_type": "code",
   "execution_count": 3,
   "id": "496f6735",
   "metadata": {
    "executionInfo": {
     "elapsed": 19,
     "status": "ok",
     "timestamp": 1753983356689,
     "user": {
      "displayName": "Jack. Fink",
      "userId": "01939910263321005032"
     },
     "user_tz": -540
    },
    "id": "496f6735"
   },
   "outputs": [],
   "source": [
    "class TMDBCrawler:\n",
    "    def __init__( #던더 더블언더스코어\n",
    "        self,\n",
    "        region=\"KR\",\n",
    "        language=\"ko-KR\",\n",
    "        image_language=\"ko\",\n",
    "        request_interval_seconds=0.4\n",
    "    ):\n",
    "        self._base_url = os.environ.get(\"TMDB_BASE_URL\", \"https://api.themoviedb.org/3/movie\")\n",
    "        self._api_key = os.environ.get(\"TMDB_API_KEY\")\n",
    "        self._region = region\n",
    "        self._language = language\n",
    "        self._image_language = image_language\n",
    "        self._request_interval_seconds = request_interval_seconds\n",
    "\n",
    "    def get_popular_movies(self, page=1):\n",
    "        params = {\n",
    "            \"api_key\": self._api_key,\n",
    "            \"language\": self._language,\n",
    "            \"region\": self._region,\n",
    "            \"page\": page\n",
    "        }\n",
    "        response = requests.get(f\"{self._base_url}/popular\", params=params)\n",
    "\n",
    "        if response.status_code != 200:\n",
    "            print(f\"[ERROR] Failed to fetch page {page}: {response.status_code}\")\n",
    "            return []\n",
    "        return response.json().get(\"results\", [])\n",
    "\n",
    "    def get_bulk_popular_movies(self, start_page=1, end_page=1):\n",
    "        movies = []\n",
    "        for page in range(start_page, end_page + 1):\n",
    "            print(f\"Fetching page {page}...\")\n",
    "            movies.extend(self.get_popular_movies(page))\n",
    "            time.sleep(self._request_interval_seconds)\n",
    "        return movies\n",
    "\n",
    "    @staticmethod\n",
    "    def save_movies_to_json_file(movies, dst=\"./result\", filename=\"popular\"):\n",
    "        os.makedirs(dst, exist_ok=True)  \n",
    "        data = {\"movies\": movies}\n",
    "        \n",
    "        file_path = os.path.join(dst, f\"{filename}.json\")\n",
    "        with open(file_path, \"w\", encoding=\"utf-8\") as f:\n",
    "            json.dump(data, f, ensure_ascii=False, indent=2)\n",
    "        print(f\"✅ 영화 데이터를 {file_path}에 저장 완료.\")\n"
   ]
  },
  {
   "cell_type": "code",
   "execution_count": null,
   "id": "7d917d2d",
   "metadata": {
    "id": "7d917d2d"
   },
   "outputs": [],
   "source": []
  }
 ],
 "metadata": {
  "colab": {
   "provenance": []
  },
  "kernelspec": {
   "display_name": ".venv (3.11.9)",
   "language": "python",
   "name": "python3"
  },
  "language_info": {
   "codemirror_mode": {
    "name": "ipython",
    "version": 3
   },
   "file_extension": ".py",
   "mimetype": "text/x-python",
   "name": "python",
   "nbconvert_exporter": "python",
   "pygments_lexer": "ipython3",
   "version": "3.11.9"
  }
 },
 "nbformat": 4,
 "nbformat_minor": 5
}
