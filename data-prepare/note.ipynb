{
 "cells": [
  {
   "cell_type": "code",
   "execution_count": null,
   "id": "278b01d4",
   "metadata": {},
   "outputs": [],
   "source": [
    "# 가상환경 설정과 실행을 위해 터미널에서 실행함\n",
    "> Set-ExecutionPolicy -ExecutionPolicy RemoteSigned -Scope Process\n",
    "> .venv\\Scripts\\Activate.ps1\n",
    "\n",
    "\n",
    "\n",
    "# 모델 구현전에 설치\n",
    "pip install numpy==1.26.4 pandas scikit-learn\n",
    "\n",
    "#로컬에 sql설치\n",
    "pip install mysql-connector-python"
   ]
  }
 ],
 "metadata": {
  "kernelspec": {
   "display_name": "Python 3",
   "language": "python",
   "name": "python3"
  },
  "language_info": {
   "codemirror_mode": {
    "name": "ipython",
    "version": 3
   },
   "file_extension": ".py",
   "mimetype": "text/x-python",
   "name": "python",
   "nbconvert_exporter": "python",
   "pygments_lexer": "ipython3",
   "version": "3.11.9"
  }
 },
 "nbformat": 4,
 "nbformat_minor": 5
}
